{
 "cells": [
  {
   "cell_type": "code",
   "execution_count": 1,
   "metadata": {},
   "outputs": [],
   "source": [
    "import pandas as pd\n",
    "import numpy as np\n",
    "import matplotlib.pyplot as plt"
   ]
  },
  {
   "cell_type": "code",
   "execution_count": 3,
   "metadata": {},
   "outputs": [
    {
     "output_type": "execute_result",
     "data": {
      "text/plain": "    ID  Age  Kid  Training  Minmax  Fruit  PlayerStarts  GameN  Length  Human  \\\n0    1   52    0         0       1      0             1      1      99      4   \n1    1   52    0         0       1      0             1      2      94      6   \n2    1   52    0         0       1      0             1      3     126      5   \n3    1   52    0         0       1      0             1      4     109      6   \n4    1   52    0         0       1      0             1      5     134      9   \n..  ..  ...  ...       ...     ...    ...           ...    ...     ...    ...   \n65   5   22    0         0       1      1             0      1      32      6   \n66   5   22    0         0       1      1             0      2      17      2   \n67   5   22    0         0       1      1             0      3      26      2   \n68   5   22    0         0       1      1             0      4      23      1   \n69   5   22    0         0       1      1             0      5      23      7   \n\n    AI  Score  \n0    6    0.0  \n1    9    0.0  \n2    7    0.0  \n3    7    0.0  \n4    2    1.0  \n..  ..    ...  \n65   9    0.0  \n66   9    0.0  \n67   9    0.0  \n68  10    0.0  \n69   9    0.0  \n\n[70 rows x 12 columns]",
      "text/html": "<div>\n<style scoped>\n    .dataframe tbody tr th:only-of-type {\n        vertical-align: middle;\n    }\n\n    .dataframe tbody tr th {\n        vertical-align: top;\n    }\n\n    .dataframe thead th {\n        text-align: right;\n    }\n</style>\n<table border=\"1\" class=\"dataframe\">\n  <thead>\n    <tr style=\"text-align: right;\">\n      <th></th>\n      <th>ID</th>\n      <th>Age</th>\n      <th>Kid</th>\n      <th>Training</th>\n      <th>Minmax</th>\n      <th>Fruit</th>\n      <th>PlayerStarts</th>\n      <th>GameN</th>\n      <th>Length</th>\n      <th>Human</th>\n      <th>AI</th>\n      <th>Score</th>\n    </tr>\n  </thead>\n  <tbody>\n    <tr>\n      <td>0</td>\n      <td>1</td>\n      <td>52</td>\n      <td>0</td>\n      <td>0</td>\n      <td>1</td>\n      <td>0</td>\n      <td>1</td>\n      <td>1</td>\n      <td>99</td>\n      <td>4</td>\n      <td>6</td>\n      <td>0.0</td>\n    </tr>\n    <tr>\n      <td>1</td>\n      <td>1</td>\n      <td>52</td>\n      <td>0</td>\n      <td>0</td>\n      <td>1</td>\n      <td>0</td>\n      <td>1</td>\n      <td>2</td>\n      <td>94</td>\n      <td>6</td>\n      <td>9</td>\n      <td>0.0</td>\n    </tr>\n    <tr>\n      <td>2</td>\n      <td>1</td>\n      <td>52</td>\n      <td>0</td>\n      <td>0</td>\n      <td>1</td>\n      <td>0</td>\n      <td>1</td>\n      <td>3</td>\n      <td>126</td>\n      <td>5</td>\n      <td>7</td>\n      <td>0.0</td>\n    </tr>\n    <tr>\n      <td>3</td>\n      <td>1</td>\n      <td>52</td>\n      <td>0</td>\n      <td>0</td>\n      <td>1</td>\n      <td>0</td>\n      <td>1</td>\n      <td>4</td>\n      <td>109</td>\n      <td>6</td>\n      <td>7</td>\n      <td>0.0</td>\n    </tr>\n    <tr>\n      <td>4</td>\n      <td>1</td>\n      <td>52</td>\n      <td>0</td>\n      <td>0</td>\n      <td>1</td>\n      <td>0</td>\n      <td>1</td>\n      <td>5</td>\n      <td>134</td>\n      <td>9</td>\n      <td>2</td>\n      <td>1.0</td>\n    </tr>\n    <tr>\n      <td>...</td>\n      <td>...</td>\n      <td>...</td>\n      <td>...</td>\n      <td>...</td>\n      <td>...</td>\n      <td>...</td>\n      <td>...</td>\n      <td>...</td>\n      <td>...</td>\n      <td>...</td>\n      <td>...</td>\n      <td>...</td>\n    </tr>\n    <tr>\n      <td>65</td>\n      <td>5</td>\n      <td>22</td>\n      <td>0</td>\n      <td>0</td>\n      <td>1</td>\n      <td>1</td>\n      <td>0</td>\n      <td>1</td>\n      <td>32</td>\n      <td>6</td>\n      <td>9</td>\n      <td>0.0</td>\n    </tr>\n    <tr>\n      <td>66</td>\n      <td>5</td>\n      <td>22</td>\n      <td>0</td>\n      <td>0</td>\n      <td>1</td>\n      <td>1</td>\n      <td>0</td>\n      <td>2</td>\n      <td>17</td>\n      <td>2</td>\n      <td>9</td>\n      <td>0.0</td>\n    </tr>\n    <tr>\n      <td>67</td>\n      <td>5</td>\n      <td>22</td>\n      <td>0</td>\n      <td>0</td>\n      <td>1</td>\n      <td>1</td>\n      <td>0</td>\n      <td>3</td>\n      <td>26</td>\n      <td>2</td>\n      <td>9</td>\n      <td>0.0</td>\n    </tr>\n    <tr>\n      <td>68</td>\n      <td>5</td>\n      <td>22</td>\n      <td>0</td>\n      <td>0</td>\n      <td>1</td>\n      <td>1</td>\n      <td>0</td>\n      <td>4</td>\n      <td>23</td>\n      <td>1</td>\n      <td>10</td>\n      <td>0.0</td>\n    </tr>\n    <tr>\n      <td>69</td>\n      <td>5</td>\n      <td>22</td>\n      <td>0</td>\n      <td>0</td>\n      <td>1</td>\n      <td>1</td>\n      <td>0</td>\n      <td>5</td>\n      <td>23</td>\n      <td>7</td>\n      <td>9</td>\n      <td>0.0</td>\n    </tr>\n  </tbody>\n</table>\n<p>70 rows × 12 columns</p>\n</div>"
     },
     "metadata": {},
     "execution_count": 3
    }
   ],
   "source": [
    "data = pd.read_csv('humans.csv', header=0)\n",
    "data"
   ]
  },
  {
   "cell_type": "code",
   "execution_count": null,
   "metadata": {},
   "outputs": [],
   "source": []
  }
 ],
 "metadata": {
  "language_info": {
   "codemirror_mode": {
    "name": "ipython",
    "version": 3
   },
   "file_extension": ".py",
   "mimetype": "text/x-python",
   "name": "python",
   "nbconvert_exporter": "python",
   "pygments_lexer": "ipython3",
   "version": "3.7.4-final"
  },
  "orig_nbformat": 2,
  "kernelspec": {
   "name": "python3",
   "display_name": "Python 3"
  }
 },
 "nbformat": 4,
 "nbformat_minor": 2
}